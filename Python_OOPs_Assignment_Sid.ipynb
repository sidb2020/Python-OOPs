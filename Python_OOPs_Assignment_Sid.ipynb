{
  "nbformat": 4,
  "nbformat_minor": 0,
  "metadata": {
    "colab": {
      "provenance": []
    },
    "kernelspec": {
      "name": "python3",
      "display_name": "Python 3"
    },
    "language_info": {
      "name": "python"
    }
  },
  "cells": [
    {
      "cell_type": "markdown",
      "source": [
        "#Python OOPs Theoretical Questions\n",
        "\n",
        "####1. What is Object-Oriented Programming (OOP) ?\n",
        "-  Object-Oriented Programming (OOP) in Python is a programming paradigm that organizes code into objects and classes. These objects are instances of classes, and classes define the properties (attributes) and behaviors (methods) that the objects will have. The main goal of OOP is to increase modularity, reusability, and maintainability of code.\n",
        "\n",
        "  - Summary of OOP Principles:\n",
        "    - Encapsulation: Bundling data and methods that operate on that data within a class and restricting access to some of the object's components.\n",
        "    - Inheritance: Creating new classes based on existing ones, allowing for code reuse.\n",
        "    - Polymorphism: Methods that can take on different forms (e.g., different classes having methods with the same name but different behavior).\n",
        "    - Abstraction: Hiding implementation details and showing only the necessary parts of the code.\n",
        "\n",
        "####2. What is a class in OOP ?\n",
        "-  In Object-Oriented Programming (OOP), a class is a blueprint or template for creating objects. It defines the structure and behaviors that the objects (instances of the class) will have. A class can include:\n",
        "\n",
        "  - Attributes (Properties): Variables that hold the state or data of the object.\n",
        "  - Methods (Functions): Functions that define the behaviors or actions that the objects can perform.\n",
        "\n",
        "A class provides the structure for creating objects with shared attributes and methods, but each object can have its own unique data for those attributes.\n",
        "\n",
        "  - Key Features of a Class:\n",
        "    - Encapsulation: A class bundles the data (attributes) and the methods that operate on the data into a single unit, hiding the internal workings and exposing only what's necessary.\n",
        "    - Instantiation: You can create multiple instances (objects) of the same class, each with its own data.\n",
        "\n",
        "####3. What is an object in OOP ?\n",
        "-  In Object-Oriented Programming (OOP), an object is an instance of a class. It is a self-contained unit that consists of both data (attributes) and methods (functions) that operate on that data.\n",
        "\n",
        "Key Characteristics of an Object:\n",
        "  - Attributes (Properties): These represent the state or characteristics of the object. They are defined by the class and can be different for each object created from that class.\n",
        "  - Methods (Behaviors): These represent the actions or functions that can be performed on the object's data. Methods are defined in the class and can modify the object’s state or perform other operations.\n",
        "\n",
        "####4. What is the difference between abstraction and encapsulation ?\n",
        "-  Abstraction and Encapsulation are two fundamental concepts in Object-Oriented Programming (OOP), and while they are related, they serve different purposes. Let’s break down their definitions and the key differences:\n",
        "\n",
        "**1.** Abstraction\n",
        "\n",
        "Abstraction refers to the concept of hiding the complex implementation details of an object and exposing only the essential features to the user. It focuses on what an object does, rather than how it does it. The main goal of abstraction is to reduce complexity and allow the programmer to focus on high-level operations while leaving out the unnecessary details.\n",
        "\n",
        "Abstraction is achieved in Python through:\n",
        "\n",
        "  - Abstract classes and methods (using the abc module).\n",
        "  - Hiding details within a class (such as internal methods) and exposing a simple interface.\n",
        "\n",
        "**2.** Encapsulation\n",
        "\n",
        "Encapsulation is the concept of bundling data (attributes) and methods (functions) that operate on that data into a single unit (i.e., a class). It also involves restricting direct access to some of the object's components and allowing access only through well-defined methods. This is often done using access modifiers (like private, protected, or public) to control visibility and prevent unwanted interference with an object's state.\n",
        "\n",
        "Encapsulation is achieved in Python by:\n",
        "\n",
        "  - Defining methods to access or modify the internal state of an object (getter and setter methods).\n",
        "  - Using private (_ or __) and public attributes to control access.\n",
        "\n",
        "####5. What is dunder methods in Python ?\n",
        "-  In Python, dunder methods (short for double underscore methods) are special methods that allow you to define how objects of a class interact with built-in operations or Python’s syntax. These methods are also called magic methods or special methods because they usually start and end with double underscores (__), such as __init__, __str__, __len__, etc.\n",
        "\n",
        "Dunder methods enable objects to behave in a way that is integrated with Python’s syntax and operators, such as using +, -, ==, and print(), among others.\n",
        "\n",
        "Dunder methods provide a way to define custom behavior for standard Python operations. These methods allow you to control object initialization, string representation, comparison operations, and more, giving your objects a more integrated, Pythonic behavior.\n",
        "\n",
        "####6. Explain the concept of inheritance  in OOP.\n",
        "-  Inheritance in Object-Oriented Programming (OOP) is a mechanism that allows a new class to derive (or inherit) properties and behaviors (methods) from an existing class. The existing class is called the parent class (or base class), and the new class that inherits from it is called the child class (or subclass).\n",
        "\n",
        "The main benefit of inheritance is code reusability. The child class can reuse the functionality of the parent class while adding its own specialized behavior or modifying the inherited behavior.\n",
        "\n",
        "Key Points:\n",
        "  - Parent Class (Base Class): The class that provides the common properties and methods to be inherited.\n",
        "  - Child Class (Subclass): The class that inherits from the parent class and can add new attributes or methods, or override inherited methods to modify behavior.\n",
        "  - Extends Functionality: The child class can extend the functionality of the parent class by adding new attributes or methods.\n",
        "  - Override Methods: The child class can override methods of the parent class to provide more specific behavior.\n",
        "\n",
        "####7. What is polymorphism in OOP ?\n",
        "-  Polymorphism in Object-Oriented Programming (OOP) is the ability of different objects to respond to the same method or operator in different ways. The term polymorphism comes from Greek, meaning \"many shapes.\" It allows objects of different classes to be treated as objects of a common superclass. The specific method that gets called is determined at runtime based on the actual object type, not the type of reference variable.\n",
        "\n",
        "In simple terms, polymorphism enables a single function, method, or operator to work in different ways depending on the type of object it is applied to.\n",
        "\n",
        "Types of Polymorphism:\n",
        "  - Method Overloading (Compile-time Polymorphism):\n",
        "    - Occurs when a class has multiple methods with the same name but different parameters (different number or types of arguments). This is not directly supported in Python (like in some other languages such as Java or C++), but we can achieve similar functionality using default arguments or variable-length arguments.\n",
        "  - Method Overriding (Runtime Polymorphism):\n",
        "    - Occurs when a subclass provides a specific implementation of a method that is already defined in its superclass. This is the most common form of polymorphism in OOP.\n",
        "\n",
        "####8. How is encapsulation acheived in Python ?\n",
        "-  Encapsulation in Object-Oriented Programming (OOP) refers to the bundling of data (attributes) and methods (functions) that operate on the data into a single unit, or class. It also involves controlling access to the internal state of an object by restricting direct access to certain attributes or methods, which helps ensure that data is manipulated in a controlled and predictable manner.\n",
        "\n",
        "In Python, encapsulation is achieved by:\n",
        "\n",
        "  - Private and Protected Access Modifiers: Controlling the visibility of attributes and methods.\n",
        "  - Getter and Setter Methods: Using methods to access or modify attributes instead of allowing direct access.\n",
        "  - Property Decorators: Using Python’s built-in @property decorator to manage attributes in a more controlled way.\n",
        "\n",
        "####9. What is a constructor in Python ?\n",
        "-  In Python, a constructor is a special method that is automatically called when an instance (object) of a class is created. The primary purpose of a constructor is to initialize the newly created object with default or specified values.\n",
        "\n",
        "The constructor in Python is defined using the __init__() method. This method is called instantly when you create an object, allowing you to set up initial values or perform any setup tasks necessary for the object.\n",
        "\n",
        "Key Points:\n",
        "  - The constructor method in Python is always named __init__().\n",
        "  - The __init__() method is not mandatory, but if it is present, it is called when an object of the class is instantiated.\n",
        "  - __init__() can accept arguments (besides self) that are used to initialize the object’s attributes.\n",
        "\n",
        "####10. What are class and static methods in Python ?\n",
        "-  In Python, class methods and static methods are types of methods that belong to a class rather than to instances of the class. While both are different from instance methods, which operate on instances of the class, class and static methods have distinct roles.\n",
        "\n",
        "**1.** Class Method\n",
        "\n",
        "A class method is a method that is bound to the class and not the instance of the class. It can be called on the class itself, or on instances of the class, but it always takes the class as its first argument (conventionally named cls).\n",
        "\n",
        "Class methods are used when the method needs to operate on the class level, not on an instance level. They are defined using the @classmethod decorator.\n",
        "\n",
        "**2.** Static Method\n",
        "\n",
        "A static method is a method that doesn't take any special first argument (not self or cls). It behaves like a regular function that belongs to the class's namespace but doesn’t have access to class or instance-specific data. Static methods are defined using the @staticmethod decorator.\n",
        "\n",
        "Static methods are useful when you need to perform a function that is related to the class, but does not need access to the class or instance itself.\n",
        "\n",
        "####11. What is method overloading in Python ?\n",
        "-  Method overloading refers to the ability to define multiple methods in the same class with the same name but with different arguments (e.g., different number of arguments or types). This is a feature available in some programming languages like Java or C++, but Python does not support method overloading in the traditional sense. However, Python provides ways to achieve similar functionality.\n",
        "\n",
        "In Python, you cannot have multiple methods with the same name and different parameters. If you define multiple methods with the same name, the latest definition will overwrite the previous one. Python allows only one method per name, so method overloading in the traditional sense is not directly possible.\n",
        "\n",
        "However, Python provides alternatives to simulate method overloading using:\n",
        "\n",
        "  - Default Arguments: You can define methods with default parameter values.\n",
        "  - Variable-Length Arguments: You can use *args (non-keyword arguments) and **kwargs (keyword arguments) to accept any number of arguments.\n",
        "\n",
        "####12. What is method overriding in OOP ?\n",
        "-  Method overriding is a concept in object-oriented programming (OOP) where a subclass provides a specific implementation of a method that is already defined in its superclass. When a subclass defines a method with the same name and signature (parameters) as a method in its superclass, the subclass's method overrides the superclass's method.\n",
        "\n",
        "The primary purpose of method overriding is to modify or extend the behavior of a method inherited from a parent class in the context of a child class.\n",
        "\n",
        "Key Points of Method Overriding:\n",
        "  - Inheritance: Method overriding occurs in the context of inheritance. The subclass inherits methods from the superclass but can override those methods to provide its own behavior.\n",
        "  - Same Method Signature: The overriding method in the subclass must have the same name and parameters (signature) as the method in the superclass.\n",
        "  - Dynamic Method Dispatch: In Python, method overriding is dynamic, meaning the method that gets called is determined at runtime, depending on the object type, not the reference type.\n",
        "\n",
        "####13. What is a property decorator in Python ?\n",
        "-  The @property decorator in Python is a built-in decorator that allows you to define a method as a property. This means that you can access it like an attribute, but it's actually a method that gets executed when the property is accessed. The @property decorator is used to define getter methods, and it enables you to make method calls appear like attribute access.\n",
        "\n",
        "In essence, the @property decorator allows you to:\n",
        "\n",
        "  - Encapsulate method logic in a way that makes it look like accessing an attribute.\n",
        "  - Control access to private attributes (i.e., via getter, setter, and deleter methods) without exposing the implementation details.\n",
        "\n",
        "This is especially useful when you want to perform some computation or validation when accessing or modifying an attribute, but you don't want to expose the method to the user directly.\n",
        "\n",
        "####14. Why is polymorphism immportant in OOP  ?\n",
        "-  Polymorphism is a key feature of object-oriented programming (OOP) that allows for the ability to take many forms. In simple terms, polymorphism enables objects of different classes to be treated as objects of a common superclass, while still behaving differently based on the actual class of the object. This means that the same method or operation can work on objects of different types, but with each type providing its own implementation of that method.\n",
        "\n",
        "Advantages of Polymorphism:\n",
        "\n",
        "  - Flexibility: You can write more generic and reusable code. Different objects can be treated the same way, allowing for flexibility in how your program operates.\n",
        "  - Maintainability: It reduces the need for duplicate code and simplifies maintaining and updating code by focusing changes on specific implementations.\n",
        "  - Code Extensibility: New features or behaviors can be added without disrupting existing functionality, improving the scalability of your application.\n",
        "\n",
        "Polymorphism is important in OOP because it enables flexibility, maintainability, and scalability in code. It simplifies code by allowing objects of different types to be treated in a uniform way and helps manage complexity by abstracting implementation details. Polymorphism facilitates extensibility and allows your programs to grow or adapt without significant changes to existing code.\n",
        "\n",
        "####15. What is an abstract class in Python ?\n",
        "-  An abstract class in Python is a class that cannot be instantiated directly. It is used as a blueprint for other classes and typically contains one or more abstract methods. An abstract method is a method that is declared, but contains no implementation. Subclasses that inherit from an abstract class must implement all abstract methods, providing their own behavior.\n",
        "\n",
        "Abstract classes allow you to define a common interface or structure for your subclasses while leaving the specific implementation to them. This is a way to enforce a contract that any subclass must adhere to a specific set of methods.\n",
        "\n",
        "Key Points:\n",
        "\n",
        "  - An abstract class is a class that cannot be instantiated on its own and serves as a blueprint for other classes.\n",
        "  - It may contain both abstract methods (methods without implementation) and concrete methods (methods with implementation).\n",
        "  - Subclasses of an abstract class are required to implement all abstract methods, providing their own specific behavior.\n",
        "  - Abstract classes provide a mechanism for enforcing structure and consistency across multiple subclasses, making your code more modular, extensible, and maintainable.\n",
        "\n",
        "####16. What are the advantages of OOP ?\n",
        "-  Object-Oriented Programming (OOP) offers several advantages that make it a popular programming paradigm, especially for large and complex software systems.\n",
        "\n",
        "Key Advantages of OOP:\n",
        "\n",
        "  - Modularity: Code is organized into discrete objects.\n",
        "  - Maintainability: Easier to maintain and update.\n",
        "  - Reusability: Reuse of code through inheritance and polymorphism.\n",
        "  - Flexibility & Scalability: Allows easy expansion and adaptability.\n",
        "  - Abstraction: Simplifies complex systems by hiding implementation details.\n",
        "  - Security: Data encapsulation improves security and data integrity.\n",
        "  - Easier Debugging: Bugs are isolated to specific objects, making them easier to locate and fix.\n",
        "  - Real-World Modeling: Natural representation of real-world entities.\n",
        "  - Improved Collaboration: Easier for teams to work on different parts of the project.\n",
        "  - Documentation: Clearer structure and design makes documentation easier.\n",
        "  - Code Refactoring: Easier to modify and extend code with minimal impact on other parts.\n",
        "\n",
        "####17. What is the difference between a class variable nad instance variable ?\n",
        "-  In Python, class variables and instance variables are both used to store data associated with classes and objects, but they differ in terms of their scope, usage, and behavior. Here’s a detailed comparison:\n",
        "\n",
        "**1.** Class Variable:\n",
        "\n",
        "  - Definition: A class variable is a variable that is shared by all instances (objects) of a class. It is defined within the class but outside of any methods, typically at the class level.\n",
        "  - Scope: Class variables are accessible by all instances of the class and by the class itself.\n",
        "  - Storage: All instances of the class share the same class variable, meaning if one instance modifies it, the change is reflected across all instances of that class.\n",
        "  - Access: You can access a class variable using the class name (e.g., ClassName.variable) or through an instance (e.g., instance.variable), but it is more commonly accessed using the class name.\n",
        "\n",
        "**2.** Instance Variable:\n",
        "\n",
        "  - Definition: An instance variable is a variable that is specific to a particular instance of a class. It is usually defined inside the __init__ method (the constructor) and is used to store data that is unique to each object created from the class.\n",
        "  - Scope: Instance variables are unique to each instance of the class and can hold different values for each instance.\n",
        "  - Storage: Each instance of the class gets its own copy of the instance variables, so changes made to the instance variables of one object do not affect the others.\n",
        "  - Access: Instance variables are accessed using the object or instance name (e.g., object.variable).\n",
        "\n",
        "####18. What is multiple inheritance in Python ?\n",
        "-  Multiple inheritance is a feature in Python where a class can inherit from more than one base class. In other words, a single class can derive attributes and methods from multiple parent classes, allowing the child class to have a combination of behaviors from multiple sources.\n",
        "\n",
        "In Python, a class can inherit from multiple parent classes, and when an instance of the child class is created, it has access to all the methods and attributes of all its parent classes.\n",
        "\n",
        "Advantages of Multiple Inheritance:\n",
        "\n",
        "  - Code Reusability: You can inherit functionality from more than one class and reuse code, which leads to less redundancy.\n",
        "  - Combining Behaviors: A subclass can inherit different behaviors from multiple parent classes. This allows for a more flexible and modular approach to class design.\n",
        "  - Extensibility: Multiple inheritance allows classes to be easily extended by adding more parent classes to inherit additional features.\n",
        "\n",
        "####19. Explain the purpose \"__str__\" and \"__repr__\" methods in Python ?\n",
        "-  In Python, __str__ and __repr__ are special (also known as dunder) methods used for string representation of objects. They are used to define how objects of a class are represented as strings in different contexts.\n",
        "\n",
        "Purpose of __str__ and __repr__:\n",
        "\n",
        "  - __str__:\n",
        "\n",
        "    - The __str__ method is used to define a \"user-friendly\" or informal string representation of an object. It is intended to be more readable and provides a human-readable description of the object.\n",
        "\n",
        "    - It is called by the str() function and when you use print() to display an object.\n",
        "\n",
        "  - __repr__:\n",
        "\n",
        "    - The __repr__ method is used to define a \"formal\" or developer-friendly string representation of an object. Its goal is to provide a detailed, unambiguous string representation of the object that can ideally be used to recreate the object.\n",
        "\n",
        "    - It is called by the repr() function and in the interactive Python shell when you type the object’s name.\n",
        "\n",
        "####20. What is the significance of 'super()' function in Python ?\n",
        "-  Significance of super():\n",
        "\n",
        "  - Calling Parent Class Methods:\n",
        "\n",
        "    - When you are overriding a method in the child class, you may still want to call the same method from the parent class. This is where super() comes in handy. It allows you to access the parent class’s method without explicitly naming the parent class.\n",
        "  - Avoiding Direct Parent Class References:\n",
        "\n",
        "    - Instead of explicitly referring to the parent class, you can use super() to make the code more maintainable and dynamic. If the parent class changes, you don’t need to update every reference to the parent class; super() will automatically call the correct parent class method, regardless of any changes in the class hierarchy.\n",
        "  - Enabling Cooperative Multiple Inheritance:\n",
        "\n",
        "    - super() works well in cases of multiple inheritance, especially with the Method Resolution Order (MRO) in Python. It ensures that the parent class method is called in a specific order (using the MRO) when a class inherits from multiple classes. This helps avoid the diamond problem and keeps the class hierarchy organized.\n",
        "\n",
        "####21. What is the significance of __del__ method in Python ?\n",
        "-  Significance of __del__ in Python:\n",
        "\n",
        "  - Resource Cleanup:\n",
        "\n",
        "    - The __del__ method allows you to release resources that were acquired during the object's lifetime, like closing a file or network socket, or deallocating memory.\n",
        "    - It's typically used to implement any cleanup code that should run when an object is no longer needed.\n",
        "  - Automatic Resource Management:\n",
        "\n",
        "    - The __del__ method is useful in cases where you are managing resources manually (e.g., opening files or database connections), and you want to ensure that they are cleaned up when the object is deleted.\n",
        "  - Garbage Collection:\n",
        "\n",
        "    - Python uses a garbage collector to automatically manage memory. When an object is no longer referenced (i.e., when there are no more references to it), the __del__ method is called before the object’s memory is reclaimed.\n",
        "    - While Python’s garbage collector automatically handles most memory management tasks, __del__ is an explicit way for the programmer to manage object destruction.\n",
        "\n",
        "####22. What is the difference between @staticmethod and @classmethod in Python ?\n",
        "-  In Python, both @staticmethod and @classmethod are decorators that allow you to define methods within a class that are not bound to an instance of the class. However, they have important differences in how they interact with the class and its instances. Let's break down each one:\n",
        "\n",
        "**1.** @staticmethod:\n",
        "\n",
        "A static method does not have access to the instance (self) or the class (cls). It behaves just like a regular function but belongs to the class's namespace. It is used for utility functions that don’t require access to the instance or class-specific data.\n",
        "\n",
        "Characteristics of @staticmethod:\n",
        "  - Does not take self or cls as its first parameter.\n",
        "  - Cannot access or modify the state of the class or its instances.\n",
        "  - Typically used for utility functions that operate on parameters passed to them.\n",
        "\n",
        "**2.** @classmethod:\n",
        "\n",
        "A class method takes a class as its first argument (cls) instead of an instance (self). This allows the method to access and modify class-level attributes, but not instance-specific data.\n",
        "\n",
        "Characteristics of @classmethod:\n",
        "  - Takes cls (the class itself) as its first parameter.\n",
        "  - Can modify the state of the class, such as changing class-level variables, but cannot access instance-specific data (i.e., no access to self).\n",
        "  - Often used for factory methods, which are methods that create and return instances of the class.\n",
        "\n",
        "####23. How does polymorphism work in Python with inheritance ?\n",
        "-  olymorphism in Python, especially with inheritance, allows different classes to define methods with the same name, but each class can have its own implementation of that method. This provides flexibility and enables the use of a common interface, while the actual method behavior may vary depending on the specific class.\n",
        "\n",
        "Polymorphism in Action with Inheritance:\n",
        "\n",
        "When inheritance is used in Python, the child class can inherit the methods of the parent class, and you can override those methods to implement different behaviors. This is a typical example of polymorphism: different classes with the same method names, but different behaviors.\n",
        "\n",
        "Polymorphism in Python, especially with inheritance, allows objects of different classes to be treated uniformly if they implement the same method. It is achieved primarily through method overriding and can also be facilitated by Python's duck typing feature. Polymorphism leads to more flexible, reusable, and maintainable code by allowing you to write methods and functions that work with objects of different types seamlessly.\n",
        "\n",
        "####24. What is method chaining in Python OOP ?\n",
        "-  Method chaining in Python (or in Object-Oriented Programming in general) refers to the practice of calling multiple methods on the same object in a single line of code. Each method in the chain returns the object itself (or another object of the same class), allowing successive method calls to be \"chained\" together.\n",
        "\n",
        "Method chaining in Python allows multiple method calls to be linked together in a single statement. For this to happen, each method in the chain must return the object itself (self), allowing subsequent methods to be called on the same object. Method chaining makes the code more compact, readable, and is commonly used in scenarios like building configuration setups or performing a series of operations on an object.\n",
        "\n",
        "####25. What is the purpose of __call__ method in Python ?\n",
        "-  The __call__ method in Python is a special method that allows an instance of a class to be called like a function. In other words, when an object of a class implements the __call__ method, you can invoke the object directly as if it were a function.\n",
        "\n",
        "**Purpose of the __call__ Method:**\n",
        "\n",
        "The __call__ method enables instances of a class to behave like functions. This can be useful in several scenarios, such as when you want an object to encapsulate behavior that can be executed in a function-like manner, or when you want to create more flexible or reusable designs in your code.\n",
        "\n",
        "When you call an object that implements __call__, Python internally calls this method. You can define this method to accept parameters just like a normal function, which gives you the ability to execute custom logic when the object is called."
      ],
      "metadata": {
        "id": "E2wazR1sINWZ"
      }
    },
    {
      "cell_type": "code",
      "source": [
        "## Python OOPs Practical Questions\n",
        "\n",
        "#1. Create a parent class Animal with a method speak() that prints a generic message. Create a child class Dog that overrides the speak() method to print \"Bark!\".\n",
        "\n",
        "# Parent class\n",
        "class Animal:\n",
        "    def speak(self):\n",
        "        print(\"Animal makes a sound\")\n",
        "\n",
        "# Child class\n",
        "class Dog(Animal):\n",
        "    def speak(self):\n",
        "        print(\"Bark!\")\n",
        "\n",
        "animal = Animal()\n",
        "animal.speak()\n",
        "\n",
        "dog = Dog()\n",
        "dog.speak()"
      ],
      "metadata": {
        "colab": {
          "base_uri": "https://localhost:8080/"
        },
        "id": "JCA5zV52oF-D",
        "outputId": "d24dc7bc-7b74-45eb-cc8d-829c229fe178"
      },
      "execution_count": 1,
      "outputs": [
        {
          "output_type": "stream",
          "name": "stdout",
          "text": [
            "Animal makes a sound\n",
            "Bark!\n"
          ]
        }
      ]
    },
    {
      "cell_type": "code",
      "source": [
        "#2. Write a program to create an abstract class Shape with a method area(). Derive classes Circle and Rectangle from it and implement the area() method in both.\n",
        "\n",
        "from abc import ABC, abstractmethod\n",
        "import math\n",
        "\n",
        "# Abstract class\n",
        "class Shape(ABC):\n",
        "    @abstractmethod\n",
        "    def area(self):\n",
        "        pass\n",
        "\n",
        "# Circle class derived from Shape\n",
        "class Circle(Shape):\n",
        "    def __init__(self, radius):\n",
        "        self.radius = radius\n",
        "\n",
        "    def area(self):\n",
        "        return math.pi * (self.radius ** 2)\n",
        "\n",
        "# Rectangle class derived from Shape\n",
        "class Rectangle(Shape):\n",
        "    def __init__(self, width, height):\n",
        "        self.width = width\n",
        "        self.height = height\n",
        "\n",
        "    def area(self):\n",
        "        return self.width * self.height\n",
        "\n",
        "circle = Circle(5)\n",
        "print(\"Area of Circle:\", circle.area())\n",
        "\n",
        "rectangle = Rectangle(4, 6)\n",
        "print(\"Area of Rectangle:\", rectangle.area())"
      ],
      "metadata": {
        "colab": {
          "base_uri": "https://localhost:8080/"
        },
        "id": "VFr5tQB3trgz",
        "outputId": "a47b213f-c68f-4abd-bfa7-432909d28372"
      },
      "execution_count": 2,
      "outputs": [
        {
          "output_type": "stream",
          "name": "stdout",
          "text": [
            "Area of Circle: 78.53981633974483\n",
            "Area of Rectangle: 24\n"
          ]
        }
      ]
    },
    {
      "cell_type": "code",
      "source": [
        "#3. Implement a multi-level inheritance scenario where a class Vehicle has an attribute type. Derive a class Car and further derive a class ElectricCar that adds a battery attribute.\n",
        "\n",
        "# Base class\n",
        "class Vehicle:\n",
        "    def __init__(self, type):\n",
        "        self.type = type\n",
        "\n",
        "    def display_type(self):\n",
        "        print(f\"Vehicle type: {self.type}\")\n",
        "\n",
        "# Derived class Car\n",
        "class Car(Vehicle):\n",
        "    def __init__(self, type, brand):\n",
        "        super().__init__(type)  # Calling the constructor of the Vehicle class\n",
        "        self.brand = brand\n",
        "\n",
        "    def display_brand(self):\n",
        "        print(f\"Car brand: {self.brand}\")\n",
        "\n",
        "# Further derived class ElectricCar\n",
        "class ElectricCar(Car):\n",
        "    def __init__(self, type, brand, battery):\n",
        "        super().__init__(type, brand)  # Calling the constructor of the Car class\n",
        "        self.battery = battery\n",
        "\n",
        "    def display_battery(self):\n",
        "        print(f\"Electric car battery: {self.battery} kWh\")\n",
        "\n",
        "vehicle = Vehicle(\"Generic Vehicle\")\n",
        "vehicle.display_type()\n",
        "\n",
        "car = Car(\"Car\", \"Ferrari\")\n",
        "car.display_type()\n",
        "car.display_brand()\n",
        "\n",
        "electric_car = ElectricCar(\"Electric Car\", \"Tesla\", 75)\n",
        "electric_car.display_type()\n",
        "electric_car.display_brand()\n",
        "electric_car.display_battery()"
      ],
      "metadata": {
        "colab": {
          "base_uri": "https://localhost:8080/"
        },
        "id": "SQZpnDjeuGKS",
        "outputId": "9a4e877b-a9d8-4fb3-e2ff-a8c870d21a23"
      },
      "execution_count": 9,
      "outputs": [
        {
          "output_type": "stream",
          "name": "stdout",
          "text": [
            "Vehicle type: Generic Vehicle\n",
            "Vehicle type: Car\n",
            "Car brand: Ferrari\n",
            "Vehicle type: Electric Car\n",
            "Car brand: Tesla\n",
            "Electric car battery: 75 kWh\n"
          ]
        }
      ]
    },
    {
      "cell_type": "code",
      "source": [
        "#4. Demonstrate polymorphism by creating a base class Bird with a method fly(). Create two derived classes Sparrow and Penguin that override the fly() method.\n",
        "\n",
        "# Base class\n",
        "class Bird:\n",
        "    def fly(self):\n",
        "        print(\"Bird is flying\")\n",
        "\n",
        "# Derived class Sparrow\n",
        "class Sparrow(Bird):\n",
        "    def fly(self):\n",
        "        print(\"Sparrow is flying high\")\n",
        "\n",
        "# Derived class Penguin\n",
        "class Penguin(Bird):\n",
        "    def fly(self):\n",
        "        print(\"Penguin cannot fly\")\n",
        "\n",
        "bird = Bird()\n",
        "bird.fly()\n",
        "\n",
        "sparrow = Sparrow()\n",
        "sparrow.fly()\n",
        "\n",
        "penguin = Penguin()\n",
        "penguin.fly()"
      ],
      "metadata": {
        "colab": {
          "base_uri": "https://localhost:8080/"
        },
        "id": "4LZ3EnaUufWg",
        "outputId": "2471eb93-a15c-44cc-a588-7eeadb589b95"
      },
      "execution_count": 4,
      "outputs": [
        {
          "output_type": "stream",
          "name": "stdout",
          "text": [
            "Bird is flying\n",
            "Sparrow is flying high\n",
            "Penguin cannot fly\n"
          ]
        }
      ]
    },
    {
      "cell_type": "code",
      "source": [
        "#5. Write a program to demonstrate encapsulation by creating a class BankAccount with private attributes balance and methods to deposit, withdraw, and check balance.\n",
        "\n",
        "class BankAccount:\n",
        "    def __init__(self, initial_balance=0):\n",
        "        # Private attribute\n",
        "        self.__balance = initial_balance\n",
        "\n",
        "    # Method to deposit money\n",
        "    def deposit(self, amount):\n",
        "        if amount > 0:\n",
        "            self.__balance += amount\n",
        "            print(f\"Deposited: ${amount}\")\n",
        "        else:\n",
        "            print(\"Deposit amount must be positive.\")\n",
        "\n",
        "    # Method to withdraw money\n",
        "    def withdraw(self, amount):\n",
        "        if amount > 0 and amount <= self.__balance:\n",
        "            self.__balance -= amount\n",
        "            print(f\"Withdrew: ${amount}\")\n",
        "        else:\n",
        "            print(\"Insufficient balance or invalid withdrawal amount.\")\n",
        "\n",
        "    # Method to check balance\n",
        "    def check_balance(self):\n",
        "        print(f\"Current balance: ${self.__balance}\")\n",
        "\n",
        "account = BankAccount(100)\n",
        "account.check_balance()\n",
        "\n",
        "account.deposit(50)\n",
        "account.check_balance()\n",
        "\n",
        "account.withdraw(30)\n",
        "account.check_balance()\n",
        "\n",
        "account.withdraw(200)"
      ],
      "metadata": {
        "colab": {
          "base_uri": "https://localhost:8080/"
        },
        "id": "vpXcQsszuz6O",
        "outputId": "d2dee591-a512-4e48-b663-8430c7300f8b"
      },
      "execution_count": 5,
      "outputs": [
        {
          "output_type": "stream",
          "name": "stdout",
          "text": [
            "Current balance: $100\n",
            "Deposited: $50\n",
            "Current balance: $150\n",
            "Withdrew: $30\n",
            "Current balance: $120\n",
            "Insufficient balance or invalid withdrawal amount.\n"
          ]
        }
      ]
    },
    {
      "cell_type": "code",
      "source": [
        "#6. Demonstrate runtime polymorphism using a method play() in a base class Instrument. Derive classes Guitar and Piano that implement their own version of play().\n",
        "\n",
        "# Base class\n",
        "class Instrument:\n",
        "    def play(self):\n",
        "        print(\"Playing the instrument\")\n",
        "\n",
        "# Derived class Guitar\n",
        "class Guitar(Instrument):\n",
        "    def play(self):\n",
        "        print(\"Strumming the guitar\")\n",
        "\n",
        "# Derived class Piano\n",
        "class Piano(Instrument):\n",
        "    def play(self):\n",
        "        print(\"Playing the piano\")\n",
        "\n",
        "def play_instrument(instrument):\n",
        "    instrument.play()\n",
        "\n",
        "# Create instances of Guitar and Piano\n",
        "guitar = Guitar()\n",
        "piano = Piano()\n",
        "\n",
        "# Demonstrating runtime polymorphism\n",
        "play_instrument(guitar)\n",
        "play_instrument(piano)"
      ],
      "metadata": {
        "colab": {
          "base_uri": "https://localhost:8080/"
        },
        "id": "moj0BEarvQez",
        "outputId": "0b17579a-e029-42dc-f661-f35c16a02ac0"
      },
      "execution_count": 6,
      "outputs": [
        {
          "output_type": "stream",
          "name": "stdout",
          "text": [
            "Strumming the guitar\n",
            "Playing the piano\n"
          ]
        }
      ]
    },
    {
      "cell_type": "code",
      "source": [
        "#7. Create a class MathOperations with a class method add_numbers() to add two numbers and a static method subtract_numbers() to subtract two numbers.\n",
        "\n",
        "class MathOperations:\n",
        "    # Class method to add two numbers\n",
        "    @classmethod\n",
        "    def add_numbers(cls, num1, num2):\n",
        "        return num1 + num2\n",
        "\n",
        "    # Static method to subtract two numbers\n",
        "    @staticmethod\n",
        "    def subtract_numbers(num1, num2):\n",
        "        return num1 - num2\n",
        "\n",
        "# Calling class method using the class name\n",
        "sum_result = MathOperations.add_numbers(10, 5)\n",
        "print(f\"Sum: {sum_result}\")\n",
        "\n",
        "# Calling static method using the class name\n",
        "difference_result = MathOperations.subtract_numbers(10, 5)\n",
        "print(f\"Difference: {difference_result}\")"
      ],
      "metadata": {
        "colab": {
          "base_uri": "https://localhost:8080/"
        },
        "id": "RvExYSDVvrOD",
        "outputId": "48d54d88-bcc5-4093-af02-6a3f56920ec0"
      },
      "execution_count": 7,
      "outputs": [
        {
          "output_type": "stream",
          "name": "stdout",
          "text": [
            "Sum: 15\n",
            "Difference: 5\n"
          ]
        }
      ]
    },
    {
      "cell_type": "code",
      "source": [
        "#8. Implement a class Person with a class method to count the total number of persons created.\n",
        "\n",
        "class Person:\n",
        "    # Class attribute to keep track of the number of Person instances\n",
        "    total_persons = 0\n",
        "\n",
        "    def __init__(self, name, age):\n",
        "        self.name = name\n",
        "        self.age = age\n",
        "        # Increment the total count each time a new Person object is created\n",
        "        Person.total_persons += 1\n",
        "\n",
        "    # Class method to get the total number of persons created\n",
        "    @classmethod\n",
        "    def get_total_persons(cls):\n",
        "        return cls.total_persons\n",
        "\n",
        "person1 = Person(\"A\", 30)\n",
        "person2 = Person(\"B\", 35)\n",
        "person3 = Person(\"C\", 40)\n",
        "\n",
        "# Call the class method to get the total number of Person objects created\n",
        "print(f\"Total number of persons created: {Person.get_total_persons()}\")"
      ],
      "metadata": {
        "colab": {
          "base_uri": "https://localhost:8080/"
        },
        "id": "5ISE79ZPwBRa",
        "outputId": "70f77b7f-338a-4ad0-f2ee-3915e07b9386"
      },
      "execution_count": 11,
      "outputs": [
        {
          "output_type": "stream",
          "name": "stdout",
          "text": [
            "Total number of persons created: 3\n"
          ]
        }
      ]
    },
    {
      "cell_type": "code",
      "source": [
        "#9 Write a class Fraction with attributes numerator and denominator. Override the str method to display the fraction as \"numerator/denominator\".\n",
        "\n",
        "class Fraction:\n",
        "    def __init__(self, numerator, denominator):\n",
        "        self.numerator = numerator\n",
        "        self.denominator = denominator\n",
        "\n",
        "    # Overriding the __str__ method to return a string representation of the fraction\n",
        "    def __str__(self):\n",
        "        return f\"{self.numerator}/{self.denominator}\"\n",
        "\n",
        "fraction = Fraction(3, 4)\n",
        "print(fraction)\n",
        "\n",
        "fraction2 = Fraction(5, 8)\n",
        "print(fraction2)"
      ],
      "metadata": {
        "colab": {
          "base_uri": "https://localhost:8080/"
        },
        "id": "uceGkm4EwSmw",
        "outputId": "68a6784f-f254-4dbe-b4ca-732af10a790e"
      },
      "execution_count": 12,
      "outputs": [
        {
          "output_type": "stream",
          "name": "stdout",
          "text": [
            "3/4\n",
            "5/8\n"
          ]
        }
      ]
    },
    {
      "cell_type": "code",
      "source": [
        "#10 Demonstrate operator overloading by creating a class Vector and overriding the add method to add two vectors.\n",
        "\n",
        "class Vector:\n",
        "    def __init__(self, x, y):\n",
        "        self.x = x\n",
        "        self.y = y\n",
        "\n",
        "    # Overloading the + operator to add two vectors\n",
        "    def __add__(self, other):\n",
        "        # Adding corresponding components of the vectors\n",
        "        return Vector(self.x + other.x, self.y + other.y)\n",
        "\n",
        "    # Overriding __str__ to print the vector in a readable format\n",
        "    def __str__(self):\n",
        "        return f\"({self.x}, {self.y})\"\n",
        "\n",
        "vector1 = Vector(2, 4)\n",
        "vector2 = Vector(1, 3)\n",
        "\n",
        "# Adding two vectors using the overloaded + operator\n",
        "result = vector1 + vector2\n",
        "\n",
        "# Printing the result of the vector addition\n",
        "print(f\"Result of vector addition: {result}\")"
      ],
      "metadata": {
        "colab": {
          "base_uri": "https://localhost:8080/"
        },
        "id": "96Y77IMb8rwk",
        "outputId": "e1246ac3-f82a-4027-bc75-17e774778cf8"
      },
      "execution_count": 13,
      "outputs": [
        {
          "output_type": "stream",
          "name": "stdout",
          "text": [
            "Result of vector addition: (3, 7)\n"
          ]
        }
      ]
    },
    {
      "cell_type": "code",
      "source": [
        "#11 Create a class Person with attributes name and age. Add a method greet() that prints \"Hello, my name is {name} and I am {age} years old.\"\n",
        "\n",
        "class Person:\n",
        "    def __init__(self, name, age):\n",
        "        # Initializing the attributes\n",
        "        self.name = name\n",
        "        self.age = age\n",
        "\n",
        "    def greet(self):\n",
        "        # Method to print a greeting message\n",
        "        print(f\"Hello, my name is {self.name} and I am {self.age} years old.\")\n",
        "\n",
        "person1 = Person(\"A\", 25)\n",
        "person1.greet()\n",
        "\n",
        "person2 = Person(\"B\", 35)\n",
        "person2.greet()"
      ],
      "metadata": {
        "colab": {
          "base_uri": "https://localhost:8080/"
        },
        "id": "8uc6tgeE9Ayz",
        "outputId": "992279d4-df3c-4d47-ac39-7cd94c0b61d0"
      },
      "execution_count": 14,
      "outputs": [
        {
          "output_type": "stream",
          "name": "stdout",
          "text": [
            "Hello, my name is A and I am 25 years old.\n",
            "Hello, my name is B and I am 35 years old.\n"
          ]
        }
      ]
    },
    {
      "cell_type": "code",
      "source": [
        "#12 Implement a class Student with attributes name and grades. Create a method average_grade() to compute the average of the grades.\n",
        "\n",
        "class Student:\n",
        "    def __init__(self, name, grades):\n",
        "        # Initializing the name and grades attributes\n",
        "        self.name = name\n",
        "        self.grades = grades\n",
        "\n",
        "    def average_grade(self):\n",
        "        # Compute the average of the grades\n",
        "        if len(self.grades) > 0:\n",
        "            return sum(self.grades) / len(self.grades)\n",
        "        else:\n",
        "            return 0  # Return 0 if no grades are provided\n",
        "\n",
        "# Example usage\n",
        "student1 = Student(\"A\", [85, 90, 88, 92])\n",
        "print(f\"{student1.name}'s average grade: {student1.average_grade()}\")\n",
        "\n",
        "student2 = Student(\"B\", [78, 82, 85, 80])\n",
        "print(f\"{student2.name}'s average grade: {student2.average_grade()}\")"
      ],
      "metadata": {
        "colab": {
          "base_uri": "https://localhost:8080/"
        },
        "id": "PGR328mo9UN_",
        "outputId": "62b5d59c-3740-46d3-b0a2-7399290c2a65"
      },
      "execution_count": 15,
      "outputs": [
        {
          "output_type": "stream",
          "name": "stdout",
          "text": [
            "A's average grade: 88.75\n",
            "B's average grade: 81.25\n"
          ]
        }
      ]
    },
    {
      "cell_type": "code",
      "source": [
        "#13 Create a class Rectangle with methods set_dimensions() to set the dimensions and area() to calculate the area.\n",
        "\n",
        "class Rectangle:\n",
        "    def __init__(self):\n",
        "        # Initialize length and width to 0 initially\n",
        "        self.length = 0\n",
        "        self.width = 0\n",
        "\n",
        "    def set_dimensions(self, length, width):\n",
        "        # Set the dimensions of the rectangle\n",
        "        self.length = length\n",
        "        self.width = width\n",
        "\n",
        "    def area(self):\n",
        "        # Calculate the area of the rectangle\n",
        "        return self.length * self.width\n",
        "\n",
        "rectangle = Rectangle()\n",
        "\n",
        "# Set the dimensions of the rectangle\n",
        "rectangle.set_dimensions(5, 3)\n",
        "\n",
        "# Calculate and print the area\n",
        "print(f\"Area of the rectangle: {rectangle.area()}\")"
      ],
      "metadata": {
        "colab": {
          "base_uri": "https://localhost:8080/"
        },
        "id": "7PNmTxtQ9rQJ",
        "outputId": "7c0e8d19-0f11-41fc-9d43-8931517d60ff"
      },
      "execution_count": 16,
      "outputs": [
        {
          "output_type": "stream",
          "name": "stdout",
          "text": [
            "Area of the rectangle: 15\n"
          ]
        }
      ]
    },
    {
      "cell_type": "code",
      "source": [
        "#14 Create a class Employee with a method calculate_salary() that computes the salary based on hours worked and hourly rate. Create a derived class Manager that adds a bonus to the salary.\n",
        "\n",
        "class Employee:\n",
        "    def __init__(self, name, hours_worked, hourly_rate):\n",
        "        self.name = name\n",
        "        self.hours_worked = hours_worked\n",
        "        self.hourly_rate = hourly_rate\n",
        "\n",
        "    def calculate_salary(self):\n",
        "        # Calculate the salary based on hours worked and hourly rate\n",
        "        return self.hours_worked * self.hourly_rate\n",
        "\n",
        "# Derived class Manager\n",
        "class Manager(Employee):\n",
        "    def __init__(self, name, hours_worked, hourly_rate, bonus):\n",
        "        # Initialize the base class and the bonus for the manager\n",
        "        super().__init__(name, hours_worked, hourly_rate)\n",
        "        self.bonus = bonus\n",
        "\n",
        "    def calculate_salary(self):\n",
        "        # Calculate the salary with an added bonus for the manager\n",
        "        base_salary = super().calculate_salary()  # Call the base class method\n",
        "        return base_salary + self.bonus\n",
        "\n",
        "# Example usage\n",
        "employee = Employee(\"Sid\", 40, 20)\n",
        "print(f\"{employee.name}'s salary: ${employee.calculate_salary()}\")\n",
        "\n",
        "manager = Manager(\"Sam\", 40, 25, 500)\n",
        "print(f\"{manager.name}'s salary: ${manager.calculate_salary()}\")"
      ],
      "metadata": {
        "colab": {
          "base_uri": "https://localhost:8080/"
        },
        "id": "XGHUU7ob99FR",
        "outputId": "3ca963f8-baca-4ab5-e1a3-acd2cd56f4d6"
      },
      "execution_count": 17,
      "outputs": [
        {
          "output_type": "stream",
          "name": "stdout",
          "text": [
            "Sid's salary: $800\n",
            "Sam's salary: $1500\n"
          ]
        }
      ]
    },
    {
      "cell_type": "code",
      "source": [
        "#15 Create a class Product with attributes name, price, and quantity. Implement a method total_price() that calculates the total price of the product.\n",
        "\n",
        "class Product:\n",
        "    def __init__(self, name, price, quantity):\n",
        "        # Initialize the attributes of the product\n",
        "        self.name = name\n",
        "        self.price = price\n",
        "        self.quantity = quantity\n",
        "\n",
        "    def total_price(self):\n",
        "        # Calculate the total price of the product\n",
        "        return self.price * self.quantity\n",
        "\n",
        "product1 = Product(\"Laptop\", 1000, 2)\n",
        "print(f\"Total price of {product1.name}: ${product1.total_price()}\")\n",
        "\n",
        "product2 = Product(\"Smartphone\", 500, 5)\n",
        "print(f\"Total price of {product2.name}: ${product2.total_price()}\")"
      ],
      "metadata": {
        "colab": {
          "base_uri": "https://localhost:8080/"
        },
        "id": "LdVArRfZ-pOP",
        "outputId": "746dd36c-082c-4f6b-c59a-ee089345f715"
      },
      "execution_count": 18,
      "outputs": [
        {
          "output_type": "stream",
          "name": "stdout",
          "text": [
            "Total price of Laptop: $2000\n",
            "Total price of Smartphone: $2500\n"
          ]
        }
      ]
    },
    {
      "cell_type": "code",
      "source": [
        "#16 Create a class Animal with an abstract method sound(). Create two derived classes Cow and Sheep that implement the sound() method.\n",
        "\n",
        "from abc import ABC, abstractmethod\n",
        "\n",
        "# Abstract base class\n",
        "class Animal(ABC):\n",
        "    @abstractmethod\n",
        "    def sound(self):\n",
        "        pass\n",
        "\n",
        "# Derived class Cow\n",
        "class Cow(Animal):\n",
        "    def sound(self):\n",
        "        return \"Moo\"\n",
        "\n",
        "# Derived class Sheep\n",
        "class Sheep(Animal):\n",
        "    def sound(self):\n",
        "        return \"Baa\"\n",
        "\n",
        "cow = Cow()\n",
        "sheep = Sheep()\n",
        "\n",
        "print(f\"Cow sound: {cow.sound()}\")\n",
        "print(f\"Sheep sound: {sheep.sound()}\")"
      ],
      "metadata": {
        "colab": {
          "base_uri": "https://localhost:8080/"
        },
        "id": "knMjVDPW_PCh",
        "outputId": "3928109c-17fb-41ba-d166-176847e5bada"
      },
      "execution_count": 19,
      "outputs": [
        {
          "output_type": "stream",
          "name": "stdout",
          "text": [
            "Cow sound: Moo\n",
            "Sheep sound: Baa\n"
          ]
        }
      ]
    },
    {
      "cell_type": "code",
      "source": [
        "#17 Create a class Book with attributes title, author, and year_published. Add a method get_book_info() that returns a formatted string with the book's details.\n",
        "\n",
        "class Book:\n",
        "    def __init__(self, title, author, year_published):\n",
        "        # Initialize the attributes of the book\n",
        "        self.title = title\n",
        "        self.author = author\n",
        "        self.year_published = year_published\n",
        "\n",
        "    def get_book_info(self):\n",
        "        # Return a formatted string with the book's details\n",
        "        return f\"Title: {self.title}\\nAuthor: {self.author}\\nYear Published: {self.year_published}\"\n",
        "\n",
        "book1 = Book(\"The Great Gatsby\", \"F. Scott Fitzgerald\", 1925)\n",
        "print(book1.get_book_info())\n",
        "\n",
        "book2 = Book(\"1984\", \"George Orwell\", 1949)\n",
        "print(book2.get_book_info())"
      ],
      "metadata": {
        "colab": {
          "base_uri": "https://localhost:8080/"
        },
        "id": "1acH29YF_oio",
        "outputId": "7dfef3e8-fd2e-49c3-87b7-67e282e1a9ce"
      },
      "execution_count": 20,
      "outputs": [
        {
          "output_type": "stream",
          "name": "stdout",
          "text": [
            "Title: The Great Gatsby\n",
            "Author: F. Scott Fitzgerald\n",
            "Year Published: 1925\n",
            "Title: 1984\n",
            "Author: George Orwell\n",
            "Year Published: 1949\n"
          ]
        }
      ]
    },
    {
      "cell_type": "code",
      "source": [
        "#18 Create a class House with attributes address and price. Create a derived class Mansion that adds an attribute number_of_rooms.\n",
        "\n",
        "# Base class House\n",
        "class House:\n",
        "    def __init__(self, address, price):\n",
        "        self.address = address\n",
        "        self.price = price\n",
        "\n",
        "    def get_house_info(self):\n",
        "        return f\"Address: {self.address}\\nPrice: ${self.price}\"\n",
        "\n",
        "# Derived class Mansion\n",
        "class Mansion(House):\n",
        "    def __init__(self, address, price, number_of_rooms):\n",
        "        # Initialize base class attributes\n",
        "        super().__init__(address, price)\n",
        "        self.number_of_rooms = number_of_rooms\n",
        "\n",
        "    def get_mansion_info(self):\n",
        "        # Get the info from the base class and add the number of rooms\n",
        "        house_info = super().get_house_info()\n",
        "        return f\"{house_info}\\nNumber of Rooms: {self.number_of_rooms}\"\n",
        "\n",
        "house = House(\"123 Elm Street\", 250000)\n",
        "print(\"House Information:\")\n",
        "print(house.get_house_info())\n",
        "print()\n",
        "\n",
        "mansion = Mansion(\"456 Oak Avenue\", 2000000, 10)\n",
        "print(\"Mansion Information:\")\n",
        "print(mansion.get_mansion_info())"
      ],
      "metadata": {
        "colab": {
          "base_uri": "https://localhost:8080/"
        },
        "id": "i6bGcP9O_4aB",
        "outputId": "1119e2f5-f04c-4721-b19a-8b442c9a75b8"
      },
      "execution_count": 21,
      "outputs": [
        {
          "output_type": "stream",
          "name": "stdout",
          "text": [
            "House Information:\n",
            "Address: 123 Elm Street\n",
            "Price: $250000\n",
            "\n",
            "Mansion Information:\n",
            "Address: 456 Oak Avenue\n",
            "Price: $2000000\n",
            "Number of Rooms: 10\n"
          ]
        }
      ]
    }
  ]
}